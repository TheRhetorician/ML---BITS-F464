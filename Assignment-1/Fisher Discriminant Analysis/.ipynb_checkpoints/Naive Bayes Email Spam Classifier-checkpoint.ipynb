{
 "cells": [
  {
   "cell_type": "code",
   "execution_count": 339,
   "metadata": {},
   "outputs": [],
   "source": [
    "import re\n",
    "import string\n",
    "from random import randrange"
   ]
  },
  {
   "cell_type": "code",
   "execution_count": 340,
   "metadata": {},
   "outputs": [],
   "source": [
    "# Some global variables which are used across functions\n",
    "probwordinspam = {}\n",
    "probwordinnonspam = {}\n",
    "numspam = 0\n",
    "numnonspam = 0\n",
    "prob_spam = 0\n",
    "prob_non_spam = 0\n",
    "unique_words = []"
   ]
  },
  {
   "cell_type": "code",
   "execution_count": 341,
   "metadata": {},
   "outputs": [],
   "source": [
    "#returns P(word|Spam)\n",
    "def prob_word_in_spam(word,data):\n",
    "    count = 0\n",
    "    for line in data:\n",
    "        text = line[0]\n",
    "        if line[1] == '1':\n",
    "            if word in line[0]:\n",
    "                count = count +1\n",
    "    #Laplace Smoothening\n",
    "    return (count+1)/(numspam+2)"
   ]
  },
  {
   "cell_type": "code",
   "execution_count": 342,
   "metadata": {},
   "outputs": [],
   "source": [
    "#returns P(word|NonSpam)\n",
    "def prob_word_in_nonspam(word,data):\n",
    "    count = 0\n",
    "    for line in data:\n",
    "        text = line[0]\n",
    "        if line[1] == '0':\n",
    "            if word in line[0]:\n",
    "                count = count +1\n",
    "    #Laplace Smoothening\n",
    "    return (count+1)/(numnonspam+2)"
   ]
  },
  {
   "cell_type": "code",
   "execution_count": 343,
   "metadata": {},
   "outputs": [],
   "source": [
    "#Splits the data received into k folds and returns the splits\n",
    "def k_fold_split(data, nfolds):\n",
    "    data1=data[:]\n",
    "    splits =[]\n",
    "    size = int(len(data)/nfolds)\n",
    "    for k in range(nfolds):\n",
    "        fold =[]\n",
    "        while len(fold) < size:\n",
    "            index = randrange(len(data1))\n",
    "            fold.append(data1.pop(index))\n",
    "        splits.append(fold)\n",
    "    #n Data Points which are left after initial creation of folds are alloted to n initial folds\n",
    "    remainder = len(data) % nfolds\n",
    "    for i in range(remainder):\n",
    "        index = randrange(len(data1))\n",
    "        splits[i].append(data1.pop(index))\n",
    "    return splits"
   ]
  },
  {
   "cell_type": "code",
   "execution_count": 344,
   "metadata": {},
   "outputs": [],
   "source": [
    "#Given a list of emails, extracts out the unique words and returns them as a list\n",
    "def get_unique_words(data):\n",
    "    uwords = set()\n",
    "    for line in data:\n",
    "        t = line[0]\n",
    "        for words in t:\n",
    "            uwords.add(words)\n",
    "    luwords=list(uwords)\n",
    "    luwords.sort()\n",
    "    return luwords"
   ]
  },
  {
   "cell_type": "code",
   "execution_count": 345,
   "metadata": {},
   "outputs": [],
   "source": [
    "def k_fold_train_test(data,nfolds):\n",
    "    splits = k_fold_split(data,nfolds)\n",
    "    acc = []\n",
    "    \n",
    "    #Goes over the combinations of folds in sequence\n",
    "    for i, split in enumerate(splits):\n",
    "        trainset = splits[:]\n",
    "        trainset.remove(split)\n",
    "        trainset = sum(trainset, [])\n",
    "        testset = split[:]\n",
    "        \n",
    "        #Training the Naive Bayes CLassifier\n",
    "        spam_classifier_fit(trainset)\n",
    "        \n",
    "        #Predicting values based on the model trained above\n",
    "        predicted = spam_classifier_predict(testset)\n",
    "                                            \n",
    "        #Finding accuracy of the predictions done above                                    \n",
    "        accuracy = check_accuracy(testset,predicted)\n",
    "                                            \n",
    "        print(f\"Accuracy of the model over fold no. {i+1} = {accuracy}\")\n",
    "        acc.append(accuracy)\n",
    "        \n",
    "        #Resets the global values to their initital values after each runthrough of combinations of folds\n",
    "        global probwordinspam ,probwordinnonspam,numspam,numnonspam,prob_spam,prob_non_spam,unique_words\n",
    "        probwordinspam.clear()\n",
    "        probwordinnonspam.clear()\n",
    "        unique_words.clear()\n",
    "        numspam = 0\n",
    "        numnonspam = 0\n",
    "        prob_spam = 0\n",
    "        prob_non_spam = 0\n",
    "    #print(acc)\n",
    "    #Prints the average accuracy\n",
    "    print(f\"\\nAverage accuracy of the model = {sum(acc)/len(acc)}\")"
   ]
  },
  {
   "cell_type": "code",
   "execution_count": 346,
   "metadata": {},
   "outputs": [],
   "source": [
    "#Training the Naive Bayes CLassifier\n",
    "def spam_classifier_fit(data):\n",
    "    global numspam, numnonspam,probwordinspam,probwordinnonspam, prob_spam, prob_non_spam, unique_words\n",
    "    unique_words = get_unique_words(data)   \n",
    "    \n",
    "    #Finds the number of spam and non-spam emails in the given training dataset\n",
    "    for line in data:\n",
    "        label = line[1]\n",
    "        if label == '1':\n",
    "            numspam = numspam + 1\n",
    "        else:\n",
    "            numnonspam = numnonspam + 1\n",
    "    \n",
    "    #Finds P(Word|Spam), P(Word|NonSpam) and stores them in dictionary\n",
    "    for word in unique_words:\n",
    "        probwordinspam[word] = prob_word_in_spam(word,data)\n",
    "        probwordinnonspam[word] = prob_word_in_nonspam(word,data)\n",
    "    \n",
    "    #Finds P(Spam) and P(NonSpam)\n",
    "    prob_spam = numspam/(numspam+numnonspam)\n",
    "    prob_non_spam = numnonspam/(numspam+numnonspam)"
   ]
  },
  {
   "cell_type": "code",
   "execution_count": 347,
   "metadata": {},
   "outputs": [],
   "source": [
    "#Predicting values based on the model trained above\n",
    "def spam_classifier_predict(data):\n",
    "    probabilities = []\n",
    "    for line in data:\n",
    "        text = line[0]\n",
    "        spamval = prob_spam\n",
    "        nonspamval = prob_non_spam\n",
    "        for word in text:\n",
    "            if word not in unique_words:\n",
    "                continue\n",
    "            else:\n",
    "                #Finds P(Spam|Word) and P(NonSpam|Word)\n",
    "                spamval = spamval*probwordinspam[word]\n",
    "                nonspamval = nonspamval*probwordinnonspam[word]\n",
    "        #Finds P(Spam|word1,word2,word3....) for a specific email\n",
    "        probabilityspam = spamval/(spamval+nonspamval)\n",
    "        if probabilityspam < 0.5:\n",
    "            probabilities.append(0)\n",
    "        else:\n",
    "            probabilities.append(1)\n",
    "    return probabilities"
   ]
  },
  {
   "cell_type": "code",
   "execution_count": 348,
   "metadata": {},
   "outputs": [],
   "source": [
    "def check_accuracy(testset,predicted):\n",
    "    total = len(testset)\n",
    "    #print(total)\n",
    "    correct = 0\n",
    "    for i, line in enumerate(testset):\n",
    "        if predicted[i] == int(line[1]):\n",
    "            correct = correct + 1\n",
    "    return correct/total"
   ]
  },
  {
   "cell_type": "code",
   "execution_count": 349,
   "metadata": {},
   "outputs": [],
   "source": [
    "with open(\"dataset_NB.txt\", \"r\") as f:\n",
    "    lines = f.read().splitlines()\n",
    "\n",
    "lines_label = []\n",
    "#Extracts out the text and label from the data and stores them to the list\n",
    "for line in lines:\n",
    "    lines_label.append((line[0:-1],line[-1:]))"
   ]
  },
  {
   "cell_type": "code",
   "execution_count": 350,
   "metadata": {},
   "outputs": [],
   "source": [
    "#Splits the emails line by line into words and removes any punctuation marks, brackets, numbers etc.\n",
    "linewords_label = []\n",
    "for line in lines_label:\n",
    "    txt = line[0]\n",
    "    str = re.sub('[' + string.punctuation + ']', ' ', txt)\n",
    "    str = re.sub('[\\n\\t\\r0-9]','',str)\n",
    "    words = str.split()\n",
    "    linewords_label.append((words, line[1]))"
   ]
  },
  {
   "cell_type": "code",
   "execution_count": 351,
   "metadata": {},
   "outputs": [],
   "source": [
    "#Hardcoded list of stopwords which may not be important to understand the context or sentiment of the email\n",
    "stopwords = ['i', 'me', 'my', 'myself', 'we', 'our', 'ours', 'ourselves', 'you', \"you're\", \"you've\", \"you'll\", \"you'd\", 'your', 'yours', 'yourself', 'yourselves', 'he', 'him', 'his', 'himself', 'she', \"she's\", 'her', 'hers', 'herself', 'it', \"it's\", 'its', 'itself', 'they', 'them', 'their', 'theirs', 'themselves', 'what', 'which', 'who', 'whom', 'this', 'that', \"that'll\", 'these', 'those', 'am', 'is', 'are', 'was', 'were', 'be', 'been', 'being', 'have', 'has', 'had', 'having', 'do', 'does', 'did', 'doing', 'a', 'an', 'the', 'and', 'but', 'if', 'or', 'because', 'as', 'until', 'while', 'of', 'at', 'by', 'for', 'with', 'about', 'against', 'between', 'into', 'through', 'during', 'before', 'after', 'above', 'below', 'to', 'from', 'up', 'down', 'in', 'out', 'on', 'off', 'over', 'under', 'again', 'further', 'then', 'once', 'here', 'there', 'when', 'where', 'why', 'how', 'all', 'any', 'both', 'each', 'few', 'more', 'most', 'other', 'some', 'such', 'no', 'nor', 'not', 'only', 'own', 'same', 'so', 'than', 'too', 'very', 's', 't', 'can', 'will', 'just', 'don', \"don't\", 'should', \"should've\", 'now', 'd', 'll', 'm', 'o', 're', 've', 'y', 'ain', 'aren', \"aren't\", 'couldn', \"couldn't\", 'didn', \"didn't\", 'doesn', \"doesn't\", 'hadn', \"hadn't\", 'hasn', \"hasn't\", 'haven', \"haven't\", 'isn', \"isn't\", 'ma', 'mightn', \"mightn't\", 'mustn', \"mustn't\", 'needn', \"needn't\", 'shan', \"shan't\", 'shouldn', \"shouldn't\", 'wasn', \"wasn't\", 'weren', \"weren't\", 'won', \"won't\", 'wouldn', \"wouldn't\"]\n",
    "\n",
    "#Final list of data with words and labels\n",
    "data = []\n",
    "for line in linewords_label:\n",
    "    txt = line[0]\n",
    "    str = []\n",
    "    for word in txt:\n",
    "        #Removes the stopwords, words of length <=2 from the list of words\n",
    "        if word not in stopwords and len(word) > 2:\n",
    "            #Converts the words to lower case to make the words case insensitive\n",
    "            str.append(word.lower())\n",
    "    data.append((str, line[1]))"
   ]
  },
  {
   "cell_type": "code",
   "execution_count": 352,
   "metadata": {
    "scrolled": true
   },
   "outputs": [
    {
     "name": "stdout",
     "output_type": "stream",
     "text": [
      "Accuracy of the model over fold no. 1 = 0.8391608391608392\n",
      "Accuracy of the model over fold no. 2 = 0.8251748251748252\n",
      "Accuracy of the model over fold no. 3 = 0.8251748251748252\n",
      "Accuracy of the model over fold no. 4 = 0.8111888111888111\n",
      "Accuracy of the model over fold no. 5 = 0.7902097902097902\n",
      "Accuracy of the model over fold no. 6 = 0.8251748251748252\n",
      "Accuracy of the model over fold no. 7 = 0.795774647887324\n",
      "\n",
      "Average accuracy of the model = 0.8159797948530343\n"
     ]
    }
   ],
   "source": [
    "#Calls the main Naive Bayes k-cross-validation training and testing function, with num_of_folds=7\n",
    "k_fold_train_test(data,7)"
   ]
  }
 ],
 "metadata": {
  "kernelspec": {
   "display_name": "Python 3",
   "language": "python",
   "name": "python3"
  },
  "language_info": {
   "codemirror_mode": {
    "name": "ipython",
    "version": 3
   },
   "file_extension": ".py",
   "mimetype": "text/x-python",
   "name": "python",
   "nbconvert_exporter": "python",
   "pygments_lexer": "ipython3",
   "version": "3.8.5"
  }
 },
 "nbformat": 4,
 "nbformat_minor": 4
}
