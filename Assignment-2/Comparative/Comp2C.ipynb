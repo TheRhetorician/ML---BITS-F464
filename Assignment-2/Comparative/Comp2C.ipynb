{
 "cells": [
  {
   "cell_type": "code",
   "execution_count": 1,
   "id": "biblical-thomson",
   "metadata": {},
   "outputs": [],
   "source": [
    "import pandas as pd\n",
    "import numpy as np \n",
    "import matplotlib.pyplot as plt\n",
    "import statistics\n",
    "from sklearn.discriminant_analysis import LinearDiscriminantAnalysis\n",
    "from sklearn.linear_model import Perceptron\n",
    "from sklearn.naive_bayes import GaussianNB\n",
    "from sklearn.linear_model import LogisticRegression\n",
    "from sklearn.svm import SVC\n",
    "from sklearn.neural_network import MLPClassifier\n",
    "from sklearn.metrics import accuracy_score"
   ]
  },
  {
   "cell_type": "code",
   "execution_count": 2,
   "id": "desirable-mapping",
   "metadata": {},
   "outputs": [
    {
     "data": {
      "text/plain": [
       "Index(['id', 'Area', 'MajorAxisLength', 'MinorAxisLength', 'Eccentricity',\n",
       "       'ConvexArea', 'EquivDiameter', 'Extent', 'Perimeter', 'Roundness',\n",
       "       'AspectRation', 'Class'],\n",
       "      dtype='object')"
      ]
     },
     "execution_count": 2,
     "metadata": {},
     "output_type": "execute_result"
    }
   ],
   "source": [
    "df = pd.read_csv(\"dataset_comb.csv\")\n",
    "df = df.sample(frac = 1)\n",
    "df.columns"
   ]
  },
  {
   "cell_type": "code",
   "execution_count": 3,
   "id": "equipped-thompson",
   "metadata": {},
   "outputs": [
    {
     "data": {
      "text/plain": [
       "jasmine    9985\n",
       "Gonen      8200\n",
       "Name: Class, dtype: int64"
      ]
     },
     "execution_count": 3,
     "metadata": {},
     "output_type": "execute_result"
    }
   ],
   "source": [
    "df = df.drop(['id'], axis = 1)\n",
    "df['Class'].value_counts()\n"
   ]
  },
  {
   "cell_type": "code",
   "execution_count": 4,
   "id": "hourly-think",
   "metadata": {},
   "outputs": [],
   "source": [
    "# Jasmine - 0 , Gonen - 1\n",
    "for column in df.columns:\n",
    "    if column!='Class':\n",
    "        colmax = df[column].max()\n",
    "        colmin = df[column].min()\n",
    "        for val in df[column]:\n",
    "            val1 = (colmax - val)/(colmax - colmin)\n",
    "            df[column] = df[column].replace(val, val1)\n",
    "    elif column == 'Class':\n",
    "        for val in df[column]:\n",
    "            if val == 'jasmine':\n",
    "                df[column] = df[column].replace(val, 0)\n",
    "            elif val == 'Gonen':\n",
    "                df[column] = df[column].replace(val, 1)\n"
   ]
  },
  {
   "cell_type": "code",
   "execution_count": 5,
   "id": "upper-chancellor",
   "metadata": {},
   "outputs": [
    {
     "data": {
      "text/plain": [
       "(18185, 11)"
      ]
     },
     "execution_count": 5,
     "metadata": {},
     "output_type": "execute_result"
    }
   ],
   "source": [
    "data = df.to_numpy()\n",
    "data.shape"
   ]
  },
  {
   "cell_type": "code",
   "execution_count": 6,
   "id": "later-vulnerability",
   "metadata": {},
   "outputs": [],
   "source": [
    "data_g = np.array_split(data, 7)"
   ]
  },
  {
   "cell_type": "code",
   "execution_count": 7,
   "id": "blessed-cache",
   "metadata": {},
   "outputs": [
    {
     "name": "stdout",
     "output_type": "stream",
     "text": [
      "[0.9869130100076983, 0.9846035411855273, 0.9811393379522709, 0.9799846035411856, 0.9822940723633564, 0.9822940723633564, 0.980361956103196]\n",
      "[0.9815230640918714, 0.9821004683390004, 0.9824212484762943, 0.9826778725861295, 0.9823570924488356, 0.9826137165586707, 0.9826148319219913]\n",
      "Mean accuracy for test set =  0.9825129419309415\n",
      "Mean accuracy for train set =  0.9823297563461133\n"
     ]
    }
   ],
   "source": [
    "# FLD\n",
    "\n",
    "accuracy_fl_test = []\n",
    "accuracy_fl_train = []\n",
    "\n",
    "for i in range(7):\n",
    "    test_data = data_g[i]\n",
    "    test_data_x = []\n",
    "    test_data_y = []\n",
    "    train_data_x = []\n",
    "    train_data_y = []\n",
    "    for j in range(7):\n",
    "        if j!=i:      #creating training dataset\n",
    "            for w in range(len(data_g[j])):\n",
    "                train_data_x.append(data_g[j][w][:10])\n",
    "                train_data_y.append(data_g[j][w][10])\n",
    "        elif j == i:      #creating testing dataset\n",
    "            for w in range(len(data_g[j])):\n",
    "                test_data_x.append(data_g[j][w][:10])\n",
    "                test_data_y.append(data_g[j][w][10])\n",
    "                \n",
    "    #convert into array\n",
    "    test_data_xn = np.array(test_data_x)\n",
    "    train_data_xn = np.array(train_data_x)\n",
    "    test_data_yn = np.array(test_data_y)\n",
    "    train_data_yn = np.array(train_data_y)\n",
    "    \n",
    "    #importing model from sklearn\n",
    "    clf = LinearDiscriminantAnalysis()\n",
    "    clf.fit(train_data_xn, train_data_yn)\n",
    "    \n",
    "    #predict class\n",
    "    test_pred_y_fl = clf.predict(test_data_xn)\n",
    "    train_pred_y_fl = clf.predict(train_data_xn)\n",
    "    \n",
    "    #calculating and appending accuracies\n",
    "    acc1_fl = accuracy_score(test_data_yn, test_pred_y_fl)\n",
    "    accuracy_fl_test.append(acc1_fl)\n",
    "    \n",
    "    acc2_fl = accuracy_score(train_data_yn, train_pred_y_fl)\n",
    "    accuracy_fl_train.append(acc2_fl)\n",
    "\n",
    "print(accuracy_fl_test)\n",
    "print(accuracy_fl_train)\n",
    "print(\"Mean accuracy for test set = \", statistics.mean(accuracy_fl_test))\n",
    "print(\"Mean accuracy for train set = \", statistics.mean(accuracy_fl_train))"
   ]
  },
  {
   "cell_type": "code",
   "execution_count": 8,
   "id": "worldwide-luxury",
   "metadata": {},
   "outputs": [
    {
     "name": "stdout",
     "output_type": "stream",
     "text": [
      "[0.99153194765204, 0.9849884526558892, 0.9799846035411856, 0.985373364126251, 0.9826789838337182, 0.9838337182448037, 0.9761262995764344]\n",
      "[0.9873612625906204, 0.9823570924488356, 0.9821004683390004, 0.9873612625906204, 0.9847308654648104, 0.9817796882017066, 0.9803053630998204]\n",
      "Mean accuracy for test set =  0.9835024813757602\n",
      "Mean accuracy for train set =  0.9837137146764877\n"
     ]
    }
   ],
   "source": [
    "# Perceptron\n",
    "\n",
    "accuracy_lp_test = []\n",
    "accuracy_lp_train = []\n",
    "\n",
    "for i in range(7):\n",
    "    test_data = data_g[i]\n",
    "    test_data_x = []\n",
    "    test_data_y = []\n",
    "    train_data_x = []\n",
    "    train_data_y = []\n",
    "    for j in range(7):\n",
    "        if j!=i:      #creating training dataset\n",
    "            for w in range(len(data_g[j])):\n",
    "                train_data_x.append(data_g[j][w][:10])\n",
    "                train_data_y.append(data_g[j][w][10])\n",
    "        elif j == i:      #creating testing dataset\n",
    "            for w in range(len(data_g[j])):\n",
    "                test_data_x.append(data_g[j][w][:10])\n",
    "                test_data_y.append(data_g[j][w][10])\n",
    "\n",
    "    #convert into array  \n",
    "    test_data_xn = np.array(test_data_x)\n",
    "    train_data_xn = np.array(train_data_x)\n",
    "    test_data_yn = np.array(test_data_y)\n",
    "    train_data_yn = np.array(train_data_y)\n",
    "    \n",
    "    #importing model from sklearn\n",
    "    clf = Perceptron(tol = 1e-3, random_state=0)\n",
    "    clf.fit(train_data_xn, train_data_yn)\n",
    "    \n",
    "    #predict class\n",
    "    test_pred_y_lp = clf.predict(test_data_xn)\n",
    "    train_pred_y_lp = clf.predict(train_data_xn)\n",
    "    \n",
    "    #calculating and appending accuracies\n",
    "    acc1_lp = accuracy_score(test_data_yn, test_pred_y_lp)\n",
    "    accuracy_lp_test.append(acc1_lp)\n",
    "    \n",
    "    acc2_lp = accuracy_score(train_data_yn, train_pred_y_lp)\n",
    "    accuracy_lp_train.append(acc2_lp)\n",
    "\n",
    "    \n",
    "print(accuracy_lp_test)\n",
    "print(accuracy_lp_train)\n",
    "print(\"Mean accuracy for test set = \", statistics.mean(accuracy_lp_test))\n",
    "print(\"Mean accuracy for train set = \", statistics.mean(accuracy_lp_train))"
   ]
  },
  {
   "cell_type": "code",
   "execution_count": 9,
   "id": "remarkable-ethics",
   "metadata": {},
   "outputs": [
    {
     "name": "stdout",
     "output_type": "stream",
     "text": [
      "[0.9888375673595073, 0.9872979214780601, 0.9857582755966128, 0.9807544264819091, 0.9842186297151655, 0.9861431870669746, 0.9853677319984597]\n",
      "[0.9851799576570219, 0.984859177519728, 0.9856932058766921, 0.9861422980689035, 0.9857573619041509, 0.9855007377943158, 0.985501667949705]\n",
      "Mean accuracy for test set =  0.9854825342423842\n",
      "Mean accuracy for train set =  0.9855192009672167\n"
     ]
    }
   ],
   "source": [
    "# Naive Bayes\n",
    "\n",
    "accuracy_nb_test = []\n",
    "accuracy_nb_train = []\n",
    "\n",
    "for i in range(7):\n",
    "    test_data = data_g[i]\n",
    "    test_data_x = []\n",
    "    test_data_y = []\n",
    "    train_data_x = []\n",
    "    train_data_y = []\n",
    "    for j in range(7):\n",
    "        if j!=i:      #creating training dataset\n",
    "            for w in range(len(data_g[j])):\n",
    "                train_data_x.append(data_g[j][w][:10])\n",
    "                train_data_y.append(data_g[j][w][10])\n",
    "        elif j == i:      #creating testing dataset\n",
    "            for w in range(len(data_g[j])):\n",
    "                test_data_x.append(data_g[j][w][:10])\n",
    "                test_data_y.append(data_g[j][w][10])\n",
    "       \n",
    "    #convert into array         \n",
    "    test_data_xn = np.array(test_data_x)\n",
    "    train_data_xn = np.array(train_data_x)\n",
    "    test_data_yn = np.array(test_data_y)\n",
    "    train_data_yn = np.array(train_data_y)\n",
    "    \n",
    "    #importing model from sklearn\n",
    "    clf = GaussianNB()\n",
    "    clf.fit(train_data_xn, train_data_yn)\n",
    "    \n",
    "    #predict class\n",
    "    test_pred_y_nb = clf.predict(test_data_xn)\n",
    "    train_pred_y_nb = clf.predict(train_data_xn)\n",
    "\n",
    "    #calculating and appending accuracies\n",
    "    acc1_nb = accuracy_score(test_data_yn, test_pred_y_nb)\n",
    "    accuracy_nb_test.append(acc1_nb)\n",
    "    \n",
    "    acc2_nb = accuracy_score(train_data_yn, train_pred_y_nb)\n",
    "    accuracy_nb_train.append(acc2_nb)\n",
    "\n",
    "\n",
    "print(accuracy_nb_test)\n",
    "print(accuracy_nb_train)\n",
    "print(\"Mean accuracy for test set = \", statistics.mean(accuracy_nb_test))\n",
    "print(\"Mean accuracy for train set = \", statistics.mean(accuracy_nb_train))"
   ]
  },
  {
   "cell_type": "code",
   "execution_count": 10,
   "id": "patient-greenhouse",
   "metadata": {},
   "outputs": [
    {
     "name": "stdout",
     "output_type": "stream",
     "text": [
      "[0.9899923017705927, 0.9896073903002309, 0.9849884526558892, 0.9857582755966128, 0.9861431870669746, 0.9861431870669746, 0.9876780901039661]\n",
      "[0.986912170398409, 0.9867838583434914, 0.9873612625906204, 0.9874254186180792, 0.9872329505357028, 0.9874254186180792, 0.9870413138311521]\n",
      "Mean accuracy for test set =  0.9871872692230345\n",
      "Mean accuracy for train set =  0.9871689132765049\n"
     ]
    }
   ],
   "source": [
    "# Logistic Regression\n",
    "\n",
    "accuracy_log_test = []\n",
    "accuracy_log_train = []\n",
    "\n",
    "for i in range(7):\n",
    "    test_data = data_g[i]\n",
    "    test_data_x = []\n",
    "    test_data_y = []\n",
    "    train_data_x = []\n",
    "    train_data_y = []\n",
    "    for j in range(7):\n",
    "        if j!=i:      #creating training dataset\n",
    "            for w in range(len(data_g[j])):\n",
    "                train_data_x.append(data_g[j][w][:10])\n",
    "                train_data_y.append(data_g[j][w][10])\n",
    "        elif j == i:      #creating testing dataset\n",
    "            for w in range(len(data_g[j])):\n",
    "                test_data_x.append(data_g[j][w][:10])\n",
    "                test_data_y.append(data_g[j][w][10])\n",
    "                \n",
    "    #convert into array\n",
    "    test_data_xn = np.array(test_data_x)\n",
    "    train_data_xn = np.array(train_data_x)\n",
    "    test_data_yn = np.array(test_data_y)\n",
    "    train_data_yn = np.array(train_data_y)\n",
    "    \n",
    "    #importing model from sklearn \n",
    "    clf = LogisticRegression(random_state = 0)\n",
    "    clf.fit(train_data_xn, train_data_yn)\n",
    "    \n",
    "    #predict class\n",
    "    test_pred_y_log = clf.predict(test_data_xn)\n",
    "    train_pred_y_log = clf.predict(train_data_xn)\n",
    "    \n",
    "    #calculating and appending accuracies\n",
    "    acc1_log = accuracy_score(test_data_yn, test_pred_y_log)\n",
    "    accuracy_log_test.append(acc1_log)\n",
    "    \n",
    "    acc2_log = accuracy_score(train_data_yn, train_pred_y_log)\n",
    "    accuracy_log_train.append(acc2_log)\n",
    "\n",
    "print(accuracy_log_test)\n",
    "print(accuracy_log_train)\n",
    "print(\"Mean accuracy for test set = \", statistics.mean(accuracy_log_test))\n",
    "print(\"Mean accuracy for train set = \", statistics.mean(accuracy_log_train))"
   ]
  },
  {
   "cell_type": "code",
   "execution_count": 11,
   "id": "numerous-syndrome",
   "metadata": {},
   "outputs": [
    {
     "name": "stdout",
     "output_type": "stream",
     "text": [
      "[0.99153194765204, 0.9861431870669746, 0.9857582755966128, 0.9869130100076983, 0.9884526558891455, 0.9896073903002309, 0.9896033885252215]\n",
      "[0.9880028228652082, 0.9889010072496311, 0.9889651632770898, 0.9887085391672548, 0.9885802271123372, 0.988644383139796, 0.9884526558891455]\n",
      "Mean accuracy for test set =  0.9882871221482747\n",
      "Mean accuracy for train set =  0.9886078283857804\n"
     ]
    }
   ],
   "source": [
    "# SVM\n",
    "\n",
    "accuracy_svm_test = []\n",
    "accuracy_svm_train = []\n",
    "\n",
    "for i in range(7):\n",
    "    test_data = data_g[i]\n",
    "    test_data_x = []\n",
    "    test_data_y = []\n",
    "    train_data_x = []\n",
    "    train_data_y = []\n",
    "    for j in range(7):\n",
    "        if j!=i:      #creating training dataset\n",
    "            for w in range(len(data_g[j])):\n",
    "                train_data_x.append(data_g[j][w][:10])\n",
    "                train_data_y.append(data_g[j][w][10])\n",
    "        elif j == i:      #creating testing dataset\n",
    "            for w in range(len(data_g[j])):\n",
    "                test_data_x.append(data_g[j][w][:10])\n",
    "                test_data_y.append(data_g[j][w][10])\n",
    "                \n",
    "    #convert into array\n",
    "    test_data_xn = np.array(test_data_x)\n",
    "    train_data_xn = np.array(train_data_x)\n",
    "    test_data_yn = np.array(test_data_y)\n",
    "    train_data_yn = np.array(train_data_y)\n",
    "    \n",
    "    #importing model from sklearn\n",
    "    clf = SVC(kernel = 'rbf')\n",
    "    clf.fit(train_data_xn, train_data_yn)\n",
    "    \n",
    "    #predict class\n",
    "    test_pred_y_svm = clf.predict(test_data_xn)\n",
    "    train_pred_y_svm = clf.predict(train_data_xn)\n",
    "\n",
    "    #calculating and appending accuracies\n",
    "    acc1_svm = accuracy_score(test_data_yn, test_pred_y_svm)\n",
    "    accuracy_svm_test.append(acc1_svm)\n",
    "    \n",
    "    acc2_svm = accuracy_score(train_data_yn, train_pred_y_svm)\n",
    "    accuracy_svm_train.append(acc2_svm)\n",
    "\n",
    "print(accuracy_svm_test)\n",
    "print(accuracy_svm_train)\n",
    "print(\"Mean accuracy for test set = \", statistics.mean(accuracy_svm_test))\n",
    "print(\"Mean accuracy for train set = \", statistics.mean(accuracy_svm_train))"
   ]
  },
  {
   "cell_type": "code",
   "execution_count": 12,
   "id": "other-sculpture",
   "metadata": {},
   "outputs": [
    {
     "name": "stdout",
     "output_type": "stream",
     "text": [
      "[0.9911470361816782, 0.9888375673595073, 0.9869130100076983, 0.9849884526558892, 0.9888375673595073, 0.9865280985373364, 0.9880631497882172]\n",
      "[0.9873612625906204, 0.9877461987553731, 0.9877461987553731, 0.9883236030025021, 0.987489574645538, 0.9885160710848784, 0.9881318963305107]\n",
      "Mean accuracy for test set =  0.987902125984262\n",
      "Mean accuracy for train set =  0.9879021150235422\n"
     ]
    }
   ],
   "source": [
    "# ANN\n",
    "\n",
    "accuracy_ann_test = []\n",
    "accuracy_ann_train = []\n",
    "\n",
    "for i in range(7):\n",
    "    test_data = data_g[i]\n",
    "    test_data_x = []\n",
    "    test_data_y = []\n",
    "    train_data_x = []\n",
    "    train_data_y = []\n",
    "    for j in range(7):\n",
    "        if j!=i:      #creating training dataset\n",
    "            for w in range(len(data_g[j])):\n",
    "                train_data_x.append(data_g[j][w][:10])\n",
    "                train_data_y.append(data_g[j][w][10])\n",
    "        elif j == i:      #creating testing dataset\n",
    "            for w in range(len(data_g[j])):\n",
    "                test_data_x.append(data_g[j][w][:10])\n",
    "                test_data_y.append(data_g[j][w][10])\n",
    "                \n",
    "    #convert into array\n",
    "    test_data_xn = np.array(test_data_x)\n",
    "    train_data_xn = np.array(train_data_x)\n",
    "    test_data_yn = np.array(test_data_y)\n",
    "    train_data_yn = np.array(train_data_y)\n",
    "    \n",
    "    #importing model from sklearn\n",
    "    clf = MLPClassifier(hidden_layer_sizes = (10, 10, 10, 10,), max_iter = 1000, activation = 'logistic', solver = 'adam', \n",
    "                        random_state = 1)\n",
    "    \n",
    "    clf.fit(train_data_xn, train_data_yn)\n",
    "    \n",
    "    #predict class\n",
    "    test_pred_y_ann = clf.predict(test_data_xn)\n",
    "    train_pred_y_ann = clf.predict(train_data_xn)\n",
    "    \n",
    "    #calculating and appending accuracies\n",
    "    acc1_ann = accuracy_score(test_data_yn, test_pred_y_ann)\n",
    "    accuracy_ann_test.append(acc1_ann)\n",
    "    \n",
    "    acc2_ann = accuracy_score(train_data_yn, train_pred_y_ann)\n",
    "    accuracy_ann_train.append(acc2_ann)\n",
    "\n",
    "\n",
    "print(accuracy_ann_test)\n",
    "print(accuracy_ann_train)\n",
    "print(\"Mean accuracy for test set = \", statistics.mean(accuracy_ann_test))\n",
    "print(\"Mean accuracy for train set = \", statistics.mean(accuracy_ann_train))"
   ]
  },
  {
   "cell_type": "code",
   "execution_count": 13,
   "id": "coral-reach",
   "metadata": {},
   "outputs": [
    {
     "data": {
      "image/png": "[encoded data removed]",
      "text/plain": [
       "<Figure size 1440x720 with 1 Axes>"
      ]
     },
     "metadata": {
      "needs_background": "light"
     },
     "output_type": "display_data"
    }
   ],
   "source": [
    "fig = plt.figure(figsize = (20, 10))\n",
    "plt.boxplot([accuracy_fl_test, accuracy_lp_test, accuracy_nb_test, accuracy_log_test, accuracy_svm_test, accuracy_ann_test])\n",
    "\n",
    "plt.text(0.75, 0.97, \"Fisher Linear Discriminant\")\n",
    "plt.text(0.80, statistics.mean(accuracy_fl_test) + 0.0006, \"Mean: \" + str(round(statistics.mean(accuracy_fl_test), 5)))\n",
    "\n",
    "plt.text(1.75, 0.99, \"Linear Perceptron\")\n",
    "plt.text(1.82, statistics.mean(accuracy_lp_test) + 0.0001, \"Mean: \" + str(round(statistics.mean(accuracy_lp_test), 5)))\n",
    "\n",
    "plt.text(2.70, 0.97, \"Naive Bayes\")\n",
    "plt.text(2.82, statistics.mean(accuracy_nb_test) + 0.0002, \"Mean: \" + str(round(statistics.mean(accuracy_nb_test), 5)))\n",
    "\n",
    "plt.text(3.85, 0.97, \"Logistic Regression\")\n",
    "plt.text(3.80, statistics.mean(accuracy_log_test) + 0.001, \"Mean: \" + str(round(statistics.mean(accuracy_log_test), 5)))\n",
    "\n",
    "plt.text(4.68, 0.97, \"Support Vector Machine\")\n",
    "plt.text(4.80, statistics.mean(accuracy_svm_test) + 0.001, \"Mean: \" + str(round(statistics.mean(accuracy_svm_test), 5)))\n",
    "\n",
    "plt.text(5.68, 0.97, \"Artificial Neural Networks\")\n",
    "plt.text(5.80, statistics.mean(accuracy_ann_test), \"Mean: \" + str(round(statistics.mean(accuracy_ann_test), 5)))\n",
    "\n",
    "#plt.savefig(\"boxPlot.jpeg\")\n",
    "\n",
    "plt.show() "
   ]
  },
  {
   "cell_type": "code",
   "execution_count": null,
   "id": "super-optimum",
   "metadata": {},
   "outputs": [],
   "source": []
  }
 ],
 "metadata": {
  "kernelspec": {
   "display_name": "Python 3",
   "language": "python",
   "name": "python3"
  },
  "language_info": {
   "codemirror_mode": {
    "name": "ipython",
    "version": 3
   },
   "file_extension": ".py",
   "mimetype": "text/x-python",
   "name": "python",
   "nbconvert_exporter": "python",
   "pygments_lexer": "ipython3",
   "version": "3.8.2"
  }
 },
 "nbformat": 4,
 "nbformat_minor": 5
}
