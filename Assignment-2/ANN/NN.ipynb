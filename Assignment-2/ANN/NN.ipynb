{
 "cells": [
  {
   "cell_type": "code",
   "execution_count": 1,
   "metadata": {
    "executionInfo": {
     "elapsed": 1180,
     "status": "ok",
     "timestamp": 1619097874677,
     "user": {
      "displayName": "ASHNA SWAIKA",
      "photoUrl": "",
      "userId": "17207238856895085641"
     },
     "user_tz": -330
    },
    "id": "j_BtDUH9uDjn"
   },
   "outputs": [],
   "source": [
    "import numpy as np\n",
    "import pandas as pd\n",
    "import matplotlib.pyplot as plt\n",
    "import os\n",
    "import time"
   ]
  },
  {
   "cell_type": "code",
   "execution_count": 2,
   "metadata": {
    "executionInfo": {
     "elapsed": 1926,
     "status": "ok",
     "timestamp": 1619097875712,
     "user": {
      "displayName": "ASHNA SWAIKA",
      "photoUrl": "",
      "userId": "17207238856895085641"
     },
     "user_tz": -330
    },
    "id": "xhho_uHkuDjp"
   },
   "outputs": [],
   "source": [
    "### pre-processing steps\n",
    "def one_hot(a):\n",
    "    a = a.astype(int)\n",
    "    m, n = a.size,a.max()\n",
    "    b = np.zeros((m , n))\n",
    "    b[np.arange(m), a-1] = 1\n",
    "    return b\n",
    "\n",
    "def normalise(X):\n",
    "    X = (X-np.min(X, axis = 0, keepdims=True))/(np.max(X, axis = 0)-np.min(X, axis = 0))\n",
    "    return X\n",
    "\n",
    "def train_test_split(data, train_split = 0.7, test_split = 0.3):\n",
    "    np.random.shuffle(data)\n",
    "    x1 = int(0.7*data.shape[0])\n",
    "    train_data = data[:x1, :]\n",
    "    test_data = data[x1:, :]\n",
    "    return train_data[:,:-1], train_data[:, -1], test_data[:, :-1], test_data[:,-1].astype(int)"
   ]
  },
  {
   "cell_type": "code",
   "execution_count": 3,
   "metadata": {
    "executionInfo": {
     "elapsed": 1643,
     "status": "ok",
     "timestamp": 1619097875712,
     "user": {
      "displayName": "ASHNA SWAIKA",
      "photoUrl": "",
      "userId": "17207238856895085641"
     },
     "user_tz": -330
    },
    "id": "XVByXc3nuDjq"
   },
   "outputs": [],
   "source": [
    "### activation, loss functions \n",
    "def sigmoid(x):\n",
    "    return 1/(1+np.exp(-x))\n",
    "def sigmoid_der(x):\n",
    "    return x*(1-x)\n",
    "def softmax(x):\n",
    "    num = np.exp(x - np.max(x, axis = 1, keepdims=True))\n",
    "    denom = np.sum(num, axis = 1, keepdims = True)\n",
    "    return num/denom\n",
    "def cross_entropy(Ytrue, Ypred):\n",
    "    n = Ytrue.shape[0]\n",
    "    return (Ypred- Ytrue)/n\n",
    "def cost(Ytrue, Ypred):\n",
    "    n = Ytrue.shape[0]\n",
    "    logterm = -np.log(Ypred[np.arange(n), Ytrue.argmax(axis = 1)])\n",
    "    return np.sum(logterm)/n\n",
    "def test_cost(Ytrue, Ypred):\n",
    "    n = Ytrue.shape[0]\n",
    "    logterm = -np.log(Ypred[np.arange(n), Ytrue])\n",
    "    return np.sum(logterm)/n\n",
    "def accuracy(Ytrue, Ypred):\n",
    "    n = Ytrue.size\n",
    "    correct = np.sum(Ytrue == Ypred)\n",
    "    return (correct/n)*100"
   ]
  },
  {
   "cell_type": "code",
   "execution_count": 4,
   "metadata": {
    "executionInfo": {
     "elapsed": 1068,
     "status": "ok",
     "timestamp": 1619098747175,
     "user": {
      "displayName": "ASHNA SWAIKA",
      "photoUrl": "",
      "userId": "17207238856895085641"
     },
     "user_tz": -330
    },
    "id": "tj8S9Xj_uDjq"
   },
   "outputs": [],
   "source": [
    "def loss_plot(loss, lr):\n",
    "    fig = plt.figure()\n",
    "    X = np.array(list(range(0,len(loss))))\n",
    "    Y = np.transpose(np.array(loss))\n",
    "    plt.plot(X,Y,\"red\")\n",
    "    plt.title(\"Loss vs Iteration\")\n",
    "    plt.xlabel(\"Iterations\")\n",
    "    plt.ylabel(\"Loss\")\n",
    "    plt.figtext(.6, .3, f\"Learning rate = {lr}\")\n",
    "    plt.show()\n",
    "def accuracy_plot(acc, lr):\n",
    "    fig = plt.figure()\n",
    "    X = np.array(list(range(0,len(acc))))\n",
    "    Y = np.transpose(np.array(acc))\n",
    "    plt.plot(X,Y,\"red\")\n",
    "    plt.title(\"Accuracy vs Iteration\")\n",
    "    plt.xlabel(\"Iterations\")\n",
    "    plt.ylabel(\"Accuracy\")\n",
    "    plt.figtext(.6, .3, f\"Learning rate = {lr}\")\n",
    "    plt.show()"
   ]
  },
  {
   "cell_type": "code",
   "execution_count": 5,
   "metadata": {
    "executionInfo": {
     "elapsed": 1784,
     "status": "ok",
     "timestamp": 1619097876378,
     "user": {
      "displayName": "ASHNA SWAIKA",
      "photoUrl": "",
      "userId": "17207238856895085641"
     },
     "user_tz": -330
    },
    "id": "sHlegVjbuDjr"
   },
   "outputs": [],
   "source": [
    "class ANN1:\n",
    "    def __init__(self, X, Y, O, lr = 0.1):\n",
    "        self.x = X\n",
    "        self.y = Y\n",
    "        self.o = O\n",
    "\n",
    "        self.inpdim = X.shape[1]\n",
    "        self.outdim = Y.shape[1]\n",
    "        self.lr = lr\n",
    "        self.hid_n1 = 256\n",
    "\n",
    "        self.W1 = np.random.randn(self.inpdim, self.hid_n1)\n",
    "        self.W2 = np.random.randn(self.hid_n1, self.outdim)\n",
    "        self.b1 = np.zeros((1, self.hid_n1))\n",
    "        self.b2 = np.zeros((1, self.outdim))\n",
    "\n",
    "        self.loss = []\n",
    "        self.accuracy = []\n",
    "\n",
    "    def forward_prop(self):\n",
    "        self.a1 = sigmoid(np.dot(self.x, self.W1) + self.b1)\n",
    "        self.a2 = softmax(np.dot(self.a1, self.W2) + self.b2)\n",
    "\n",
    "    def back_prop(self):\n",
    "        a2_der = cross_entropy(self.y, self.a2)\n",
    "        w1_der = np.dot(a2_der, self.W2.T)\n",
    "        a1_der = w1_der * sigmoid_der(self.a1)\n",
    "\n",
    "        self.W2 = self.W2 - self.lr * np.dot(self.a1.T, a2_der)\n",
    "        self.W1 = self.W1 - self.lr * np.dot(self.x.T, a1_der)\n",
    "        self.b2 = self.b2 - self.lr * np.sum(a2_der, axis = 0, keepdims=True)\n",
    "        self.b1 = self.b1 - self.lr * np.sum(a1_der, axis = 0)\n",
    "\n",
    "    def train(self, iter = 1000, show = 100,makefile = True):\n",
    "        start = time.time()\n",
    "        for i in range(iter+1):\n",
    "            self.forward_prop()\n",
    "            self.t = np.array(self.a2.argmax(axis = 1)+1)\n",
    "            self.back_prop()\n",
    "            self.accuracy.append(accuracy(self.o, self.t))\n",
    "            self.loss.append(cost(self.y, self.a2))\n",
    "            if makefile:\n",
    "                if max(self.accuracy) == self.accuracy[i]:\n",
    "                    f = open(\"best_weights1.hd5\", \"w\")\n",
    "                    f.write(f\"Accuracy : {round(self.accuracy[i],2)}  Loss : {round(self.loss[i],2)}\")\n",
    "                    f.write(f\"W1 : {self.W1}\")\n",
    "                    f.write(f\"W2 : {self.W2}\")\n",
    "                    f.write(f\"b1 : {self.b1}\")\n",
    "                    f.write(f\"b2 : {self.b2}\")\n",
    "                    f.close()\n",
    "            if i%show == 0:\n",
    "                print(f\"Iteration {i} ============ Accuracy : {round(self.accuracy[i],2)}  Loss : {round(self.loss[i],2)} Time taken : {round(time.time() - start, 2)} s\")\n",
    "                start = time.time()\n",
    "                print()\n",
    "    \n",
    "    def test(self, x, y):\n",
    "        self.x = x\n",
    "        self.o = y.reshape(y.shape[0])\n",
    "        self.forward_prop()\n",
    "        self.t = np.array(self.a2.argmax(axis = 1)+1)\n",
    "        print(f\"TEST Accuracy {accuracy(self.o,self.t)} Loss {test_cost(self.o-1,self.a2)}\") "
   ]
  },
  {
   "cell_type": "code",
   "execution_count": 6,
   "metadata": {
    "executionInfo": {
     "elapsed": 1512,
     "status": "ok",
     "timestamp": 1619097876380,
     "user": {
      "displayName": "ASHNA SWAIKA",
      "photoUrl": "",
      "userId": "17207238856895085641"
     },
     "user_tz": -330
    },
    "id": "aCLdVDLZuDjs"
   },
   "outputs": [],
   "source": [
    "class ANN2:\n",
    "    def __init__(self, X, Y, O ,lr = 0.1):\n",
    "        self.x = X\n",
    "        self.y = Y\n",
    "        self.o = O\n",
    "\n",
    "        self.inpdim = X.shape[1]\n",
    "        self.outdim = Y.shape[1]\n",
    "        self.lr = lr\n",
    "        self.hid_n1 = 256\n",
    "        self.hid_n2 = 128\n",
    "\n",
    "        self.W1 = np.random.randn(self.inpdim, self.hid_n1)\n",
    "        self.W2 = np.random.randn(self.hid_n1, self.hid_n2)\n",
    "        self.W3 = np.random.randn(self.hid_n2, self.outdim)\n",
    "        self.b1 = np.zeros((1, self.hid_n1))\n",
    "        self.b2 = np.zeros((1, self.hid_n2))\n",
    "        self.b3 = np.zeros((1, self.outdim))\n",
    "\n",
    "        self.loss = []\n",
    "        self.accuracy = []\n",
    "\n",
    "    def forward_prop(self):\n",
    "        self.a1 = sigmoid(np.dot(self.x, self.W1) + self.b1)\n",
    "        self.a2 = sigmoid(np.dot(self.a1, self.W2) + self.b2)\n",
    "        self.a3 = softmax(np.dot(self.a2, self.W3) + self.b3)\n",
    "\n",
    "    def back_prop(self):\n",
    "        a3_der = cross_entropy(self.y, self.a3)\n",
    "        w2_der = np.dot(a3_der, self.W3.T)\n",
    "        a2_der = w2_der * sigmoid_der(self.a2)\n",
    "        w1_der = np.dot(a2_der, self.W2.T)\n",
    "        a1_der = w1_der * sigmoid_der(self.a1)\n",
    "\n",
    "        self.W3 = self.W3 - self.lr * np.dot(self.a2.T, a3_der)\n",
    "        self.W2 = self.W2 - self.lr * np.dot(self.a1.T, a2_der)\n",
    "        self.W1 = self.W1 - self.lr * np.dot(self.x.T, a1_der)\n",
    "        self.b3 = self.b3 - self.lr * np.sum(a3_der, axis = 0, keepdims=True)\n",
    "        self.b2 = self.b2 - self.lr * np.sum(a2_der, axis = 0)\n",
    "        self.b1 = self.b1 - self.lr * np.sum(a1_der, axis = 0)\n",
    "\n",
    "    def train(self, iter = 1000, show = 100, makefile = True):\n",
    "        start = time.time()\n",
    "        for i in range(iter+1):\n",
    "            self.forward_prop()\n",
    "            self.t = np.array(self.a3.argmax(axis = 1)+1)\n",
    "            self.back_prop()\n",
    "            self.accuracy.append(accuracy(self.o, self.t))\n",
    "            self.loss.append(cost(self.y, self.a2))\n",
    "            if makefile:\n",
    "                if max(self.accuracy) == self.accuracy[i]:\n",
    "                    f = open(\"best_weights2.hd5\", \"w\")\n",
    "                    f.write(f\"Accuracy : {round(self.accuracy[i],2)}  Loss : {round(self.loss[i],2)}\")\n",
    "                    f.write(f\"W1 : {self.W1}\")\n",
    "                    f.write(f\"W2 : {self.W2}\")\n",
    "                    f.write(f\"W3 : {self.W3}\")\n",
    "                    f.write(f\"b1 : {self.b1}\")\n",
    "                    f.write(f\"b2 : {self.b2}\")\n",
    "                    f.write(f\"b3 : {self.b3}\")\n",
    "                    f.close()\n",
    "            if i%show == 0:\n",
    "                print(f\"Iteration {i} ============ Accuracy : {round(self.accuracy[i],2)}  Loss : {round(self.loss[i],2)} Time taken : {round(time.time() - start, 2)} s\")\n",
    "                start = time.time()\n",
    "                print()\n",
    "    \n",
    "    def test(self, x, y):\n",
    "        self.x = x\n",
    "        self.o = y.reshape(y.shape[0])\n",
    "        self.forward_prop()\n",
    "        self.t = np.array(self.a3.argmax(axis = 1)+1)\n",
    "        print(f\"TEST Accuracy {accuracy(self.o,self.t)} Loss {test_cost(self.o-1,self.a3)}\") \n",
    "\n",
    "\n"
   ]
  },
  {
   "cell_type": "code",
   "execution_count": 7,
   "metadata": {
    "colab": {
     "base_uri": "https://localhost:8080/"
    },
    "executionInfo": {
     "elapsed": 1232,
     "status": "ok",
     "timestamp": 1619097876988,
     "user": {
      "displayName": "ASHNA SWAIKA",
      "photoUrl": "",
      "userId": "17207238856895085641"
     },
     "user_tz": -330
    },
    "id": "kyZFEoO6ufMa",
    "outputId": "90185a6d-1254-4fb3-f8ff-e37fa743d1ba"
   },
   "outputs": [
    {
     "name": "stdout",
     "output_type": "stream",
     "text": [
      "C:\\Users\\Mudit\\OneDrive\\Desktop\\PROJECTS\\ML\\ML---BITS-F464\\Assignment-2\\ANN_final\\Assignment-2 Final\n"
     ]
    }
   ],
   "source": [
    "\n",
    "cd \"C:\\Users\\Mudit\\OneDrive\\Desktop\\PROJECTS\\ML\\ML---BITS-F464\\Assignment-2\\ANN_final\\Assignment-2 Final\""
   ]
  },
  {
   "cell_type": "code",
   "execution_count": 8,
   "metadata": {
    "executionInfo": {
     "elapsed": 723,
     "status": "ok",
     "timestamp": 1619097876988,
     "user": {
      "displayName": "ASHNA SWAIKA",
      "photoUrl": "",
      "userId": "17207238856895085641"
     },
     "user_tz": -330
    },
    "id": "KYCrsek9uDjt",
    "tags": []
   },
   "outputs": [],
   "source": [
    "path = os.path.join('dataset_NN.csv')\n",
    "dataset = pd.read_csv(path)\n",
    "dataset = dataset.to_numpy()\n",
    "dataset[:,:-1] = normalise(dataset[:,:-1])\n",
    "dataset[:,-1] = dataset[:,-1].astype(int)\n",
    "trainX , trainY, testX, testY = train_test_split(dataset, 0.7, 0.3)"
   ]
  },
  {
   "cell_type": "code",
   "execution_count": 9,
   "metadata": {
    "colab": {
     "base_uri": "https://localhost:8080/",
     "height": 1000
    },
    "executionInfo": {
     "elapsed": 259613,
     "status": "ok",
     "timestamp": 1619099018997,
     "user": {
      "displayName": "ASHNA SWAIKA",
      "photoUrl": "",
      "userId": "17207238856895085641"
     },
     "user_tz": -330
    },
    "id": "x8Hx2UZQuDjw",
    "outputId": "1ac48abd-c006-4ab6-f15b-03086022f130"
   },
   "outputs": [
    {
     "name": "stdout",
     "output_type": "stream",
     "text": [
      "Iteration 0 ============ Accuracy : 10.21  Loss : 19.11 Time taken : 0.03 s\n",
      "\n",
      "Iteration 100 ============ Accuracy : 57.93  Loss : 1.24 Time taken : 2.13 s\n",
      "\n",
      "Iteration 200 ============ Accuracy : 68.86  Loss : 1.0 Time taken : 2.16 s\n",
      "\n",
      "Iteration 300 ============ Accuracy : 70.43  Loss : 0.91 Time taken : 2.27 s\n",
      "\n",
      "Iteration 400 ============ Accuracy : 71.21  Loss : 0.86 Time taken : 2.09 s\n",
      "\n",
      "Iteration 500 ============ Accuracy : 70.86  Loss : 0.83 Time taken : 2.2 s\n",
      "\n",
      "Iteration 600 ============ Accuracy : 70.93  Loss : 0.81 Time taken : 2.02 s\n",
      "\n",
      "Iteration 700 ============ Accuracy : 70.86  Loss : 0.79 Time taken : 1.86 s\n",
      "\n",
      "Iteration 800 ============ Accuracy : 70.71  Loss : 0.78 Time taken : 1.79 s\n",
      "\n",
      "Iteration 900 ============ Accuracy : 71.36  Loss : 0.77 Time taken : 1.78 s\n",
      "\n",
      "Iteration 1000 ============ Accuracy : 71.57  Loss : 0.76 Time taken : 1.81 s\n",
      "\n",
      "Iteration 1100 ============ Accuracy : 71.86  Loss : 0.75 Time taken : 1.76 s\n",
      "\n",
      "Iteration 1200 ============ Accuracy : 71.93  Loss : 0.75 Time taken : 1.75 s\n",
      "\n",
      "Iteration 1300 ============ Accuracy : 72.07  Loss : 0.74 Time taken : 1.77 s\n",
      "\n",
      "Iteration 1400 ============ Accuracy : 72.0  Loss : 0.74 Time taken : 1.78 s\n",
      "\n",
      "Iteration 1500 ============ Accuracy : 72.36  Loss : 0.73 Time taken : 1.79 s\n",
      "\n",
      "Iteration 1600 ============ Accuracy : 72.43  Loss : 0.73 Time taken : 1.77 s\n",
      "\n",
      "Iteration 1700 ============ Accuracy : 72.43  Loss : 0.72 Time taken : 1.79 s\n",
      "\n",
      "Iteration 1800 ============ Accuracy : 72.57  Loss : 0.72 Time taken : 1.78 s\n",
      "\n",
      "Iteration 1900 ============ Accuracy : 72.64  Loss : 0.72 Time taken : 1.82 s\n",
      "\n",
      "Iteration 2000 ============ Accuracy : 72.64  Loss : 0.71 Time taken : 1.79 s\n",
      "\n",
      "Iteration 2100 ============ Accuracy : 72.79  Loss : 0.71 Time taken : 1.88 s\n",
      "\n",
      "Iteration 2200 ============ Accuracy : 72.79  Loss : 0.71 Time taken : 1.77 s\n",
      "\n",
      "Iteration 2300 ============ Accuracy : 72.86  Loss : 0.71 Time taken : 1.82 s\n",
      "\n",
      "Iteration 2400 ============ Accuracy : 72.93  Loss : 0.7 Time taken : 1.8 s\n",
      "\n",
      "Iteration 2500 ============ Accuracy : 72.93  Loss : 0.7 Time taken : 1.78 s\n",
      "\n",
      "Iteration 2600 ============ Accuracy : 72.86  Loss : 0.7 Time taken : 1.61 s\n",
      "\n",
      "Iteration 2700 ============ Accuracy : 73.0  Loss : 0.7 Time taken : 1.62 s\n",
      "\n",
      "Iteration 2800 ============ Accuracy : 73.07  Loss : 0.69 Time taken : 1.61 s\n",
      "\n",
      "Iteration 2900 ============ Accuracy : 72.86  Loss : 0.69 Time taken : 1.59 s\n",
      "\n",
      "Iteration 3000 ============ Accuracy : 73.0  Loss : 0.69 Time taken : 1.58 s\n",
      "\n",
      "Iteration 3100 ============ Accuracy : 73.0  Loss : 0.69 Time taken : 1.61 s\n",
      "\n",
      "Iteration 3200 ============ Accuracy : 73.14  Loss : 0.69 Time taken : 1.58 s\n",
      "\n",
      "Iteration 3300 ============ Accuracy : 73.29  Loss : 0.68 Time taken : 1.6 s\n",
      "\n",
      "Iteration 3400 ============ Accuracy : 73.29  Loss : 0.68 Time taken : 1.6 s\n",
      "\n",
      "Iteration 3500 ============ Accuracy : 73.29  Loss : 0.68 Time taken : 2.11 s\n",
      "\n",
      "Iteration 3600 ============ Accuracy : 73.64  Loss : 0.68 Time taken : 2.72 s\n",
      "\n",
      "Iteration 3700 ============ Accuracy : 73.71  Loss : 0.68 Time taken : 1.87 s\n",
      "\n",
      "Iteration 3800 ============ Accuracy : 74.0  Loss : 0.68 Time taken : 1.85 s\n",
      "\n",
      "Iteration 3900 ============ Accuracy : 74.07  Loss : 0.67 Time taken : 1.85 s\n",
      "\n",
      "Iteration 4000 ============ Accuracy : 74.07  Loss : 0.67 Time taken : 1.86 s\n",
      "\n",
      "TEST Accuracy 75.66666666666667 Loss 0.5739415847264804\n"
     ]
    },
    {
     "data": {
      "image/png": "[encoded data removed]",
      "text/plain": [
       "<Figure size 432x288 with 1 Axes>"
      ]
     },
     "metadata": {
      "needs_background": "light"
     },
     "output_type": "display_data"
    },
    {
     "data": {
      "image/png": "[encoded data removed]",
      "text/plain": [
       "<Figure size 432x288 with 1 Axes>"
      ]
     },
     "metadata": {
      "needs_background": "light"
     },
     "output_type": "display_data"
    },
    {
     "name": "stdout",
     "output_type": "stream",
     "text": [
      "Iteration 0 ============ Accuracy : 13.43  Loss : 9.21 Time taken : 0.03 s\n",
      "\n",
      "Iteration 100 ============ Accuracy : 44.71  Loss : 1.44 Time taken : 1.85 s\n",
      "\n",
      "Iteration 200 ============ Accuracy : 61.29  Loss : 1.19 Time taken : 1.84 s\n",
      "\n",
      "Iteration 300 ============ Accuracy : 66.5  Loss : 1.07 Time taken : 1.84 s\n",
      "\n",
      "Iteration 400 ============ Accuracy : 68.07  Loss : 0.99 Time taken : 3.77 s\n",
      "\n",
      "Iteration 500 ============ Accuracy : 69.14  Loss : 0.94 Time taken : 1.99 s\n",
      "\n",
      "Iteration 600 ============ Accuracy : 69.57  Loss : 0.9 Time taken : 1.96 s\n",
      "\n",
      "Iteration 700 ============ Accuracy : 69.86  Loss : 0.87 Time taken : 1.96 s\n",
      "\n",
      "Iteration 800 ============ Accuracy : 70.14  Loss : 0.85 Time taken : 1.85 s\n",
      "\n",
      "Iteration 900 ============ Accuracy : 70.43  Loss : 0.84 Time taken : 1.89 s\n",
      "\n",
      "Iteration 1000 ============ Accuracy : 70.43  Loss : 0.82 Time taken : 1.94 s\n",
      "\n",
      "Iteration 1100 ============ Accuracy : 70.71  Loss : 0.81 Time taken : 2.04 s\n",
      "\n",
      "Iteration 1200 ============ Accuracy : 70.79  Loss : 0.8 Time taken : 1.89 s\n",
      "\n",
      "Iteration 1300 ============ Accuracy : 70.86  Loss : 0.79 Time taken : 1.86 s\n",
      "\n",
      "Iteration 1400 ============ Accuracy : 71.21  Loss : 0.78 Time taken : 1.86 s\n",
      "\n",
      "Iteration 1500 ============ Accuracy : 71.5  Loss : 0.78 Time taken : 1.9 s\n",
      "\n",
      "Iteration 1600 ============ Accuracy : 71.29  Loss : 0.77 Time taken : 1.88 s\n",
      "\n",
      "Iteration 1700 ============ Accuracy : 71.64  Loss : 0.77 Time taken : 1.88 s\n",
      "\n",
      "Iteration 1800 ============ Accuracy : 71.79  Loss : 0.76 Time taken : 1.87 s\n",
      "\n",
      "Iteration 1900 ============ Accuracy : 71.64  Loss : 0.76 Time taken : 1.88 s\n",
      "\n",
      "Iteration 2000 ============ Accuracy : 71.64  Loss : 0.75 Time taken : 1.87 s\n",
      "\n",
      "Iteration 2100 ============ Accuracy : 71.5  Loss : 0.75 Time taken : 1.86 s\n",
      "\n",
      "Iteration 2200 ============ Accuracy : 71.71  Loss : 0.75 Time taken : 2.45 s\n",
      "\n",
      "Iteration 2300 ============ Accuracy : 71.79  Loss : 0.74 Time taken : 1.97 s\n",
      "\n",
      "Iteration 2400 ============ Accuracy : 71.93  Loss : 0.74 Time taken : 1.87 s\n",
      "\n",
      "Iteration 2500 ============ Accuracy : 71.93  Loss : 0.74 Time taken : 1.88 s\n",
      "\n",
      "Iteration 2600 ============ Accuracy : 71.86  Loss : 0.73 Time taken : 1.74 s\n",
      "\n",
      "Iteration 2700 ============ Accuracy : 72.07  Loss : 0.73 Time taken : 1.69 s\n",
      "\n",
      "Iteration 2800 ============ Accuracy : 72.07  Loss : 0.73 Time taken : 1.65 s\n",
      "\n",
      "Iteration 2900 ============ Accuracy : 72.14  Loss : 0.73 Time taken : 2.09 s\n",
      "\n",
      "Iteration 3000 ============ Accuracy : 72.36  Loss : 0.72 Time taken : 1.63 s\n",
      "\n",
      "Iteration 3100 ============ Accuracy : 72.43  Loss : 0.72 Time taken : 1.78 s\n",
      "\n",
      "Iteration 3200 ============ Accuracy : 72.43  Loss : 0.72 Time taken : 1.83 s\n",
      "\n",
      "Iteration 3300 ============ Accuracy : 72.36  Loss : 0.72 Time taken : 1.77 s\n",
      "\n",
      "Iteration 3400 ============ Accuracy : 72.21  Loss : 0.72 Time taken : 1.72 s\n",
      "\n",
      "Iteration 3500 ============ Accuracy : 72.14  Loss : 0.72 Time taken : 1.87 s\n",
      "\n",
      "Iteration 3600 ============ Accuracy : 72.14  Loss : 0.71 Time taken : 1.73 s\n",
      "\n",
      "Iteration 3700 ============ Accuracy : 72.07  Loss : 0.71 Time taken : 1.67 s\n",
      "\n",
      "Iteration 3800 ============ Accuracy : 72.07  Loss : 0.71 Time taken : 1.65 s\n",
      "\n",
      "Iteration 3900 ============ Accuracy : 72.14  Loss : 0.71 Time taken : 1.61 s\n",
      "\n",
      "Iteration 4000 ============ Accuracy : 72.14  Loss : 0.71 Time taken : 1.62 s\n",
      "\n",
      "TEST Accuracy 75.33333333333333 Loss 0.6052038492634915\n"
     ]
    },
    {
     "data": {
      "image/png": "[encoded data removed]",
      "text/plain": [
       "<Figure size 432x288 with 1 Axes>"
      ]
     },
     "metadata": {
      "needs_background": "light"
     },
     "output_type": "display_data"
    },
    {
     "data": {
      "image/png": "[encoded data removed]",
      "text/plain": [
       "<Figure size 432x288 with 1 Axes>"
      ]
     },
     "metadata": {
      "needs_background": "light"
     },
     "output_type": "display_data"
    },
    {
     "name": "stdout",
     "output_type": "stream",
     "text": [
      "Iteration 0 ============ Accuracy : 18.64  Loss : 13.94 Time taken : 0.02 s\n",
      "\n",
      "Iteration 100 ============ Accuracy : 29.43  Loss : 2.04 Time taken : 1.62 s\n",
      "\n",
      "Iteration 200 ============ Accuracy : 42.79  Loss : 1.8 Time taken : 1.62 s\n",
      "\n",
      "Iteration 300 ============ Accuracy : 44.21  Loss : 1.67 Time taken : 1.64 s\n",
      "\n",
      "Iteration 400 ============ Accuracy : 45.93  Loss : 1.57 Time taken : 1.63 s\n",
      "\n",
      "Iteration 500 ============ Accuracy : 47.86  Loss : 1.49 Time taken : 1.63 s\n",
      "\n",
      "Iteration 600 ============ Accuracy : 48.14  Loss : 1.42 Time taken : 1.61 s\n",
      "\n",
      "Iteration 700 ============ Accuracy : 49.0  Loss : 1.37 Time taken : 1.64 s\n",
      "\n",
      "Iteration 800 ============ Accuracy : 51.21  Loss : 1.32 Time taken : 1.66 s\n",
      "\n",
      "Iteration 900 ============ Accuracy : 53.29  Loss : 1.28 Time taken : 1.97 s\n",
      "\n",
      "Iteration 1000 ============ Accuracy : 55.79  Loss : 1.24 Time taken : 1.86 s\n",
      "\n",
      "Iteration 1100 ============ Accuracy : 58.79  Loss : 1.21 Time taken : 1.82 s\n",
      "\n",
      "Iteration 1200 ============ Accuracy : 61.14  Loss : 1.18 Time taken : 1.94 s\n",
      "\n",
      "Iteration 1300 ============ Accuracy : 63.0  Loss : 1.15 Time taken : 1.61 s\n",
      "\n",
      "Iteration 1400 ============ Accuracy : 63.71  Loss : 1.12 Time taken : 1.81 s\n",
      "\n",
      "Iteration 1500 ============ Accuracy : 63.93  Loss : 1.1 Time taken : 1.63 s\n",
      "\n",
      "Iteration 1600 ============ Accuracy : 64.5  Loss : 1.08 Time taken : 3.27 s\n",
      "\n",
      "Iteration 1700 ============ Accuracy : 65.36  Loss : 1.07 Time taken : 1.68 s\n",
      "\n",
      "Iteration 1800 ============ Accuracy : 66.36  Loss : 1.05 Time taken : 1.63 s\n",
      "\n",
      "Iteration 1900 ============ Accuracy : 66.86  Loss : 1.03 Time taken : 1.6 s\n",
      "\n",
      "Iteration 2000 ============ Accuracy : 66.93  Loss : 1.02 Time taken : 1.7 s\n",
      "\n",
      "Iteration 2100 ============ Accuracy : 67.43  Loss : 1.01 Time taken : 1.86 s\n",
      "\n",
      "Iteration 2200 ============ Accuracy : 68.07  Loss : 1.0 Time taken : 1.89 s\n",
      "\n",
      "Iteration 2300 ============ Accuracy : 68.5  Loss : 0.98 Time taken : 1.87 s\n",
      "\n",
      "Iteration 2400 ============ Accuracy : 68.71  Loss : 0.97 Time taken : 1.88 s\n",
      "\n",
      "Iteration 2500 ============ Accuracy : 68.86  Loss : 0.96 Time taken : 1.86 s\n",
      "\n",
      "Iteration 2600 ============ Accuracy : 69.0  Loss : 0.96 Time taken : 1.91 s\n",
      "\n",
      "Iteration 2700 ============ Accuracy : 69.0  Loss : 0.95 Time taken : 1.89 s\n",
      "\n",
      "Iteration 2800 ============ Accuracy : 69.07  Loss : 0.94 Time taken : 1.88 s\n",
      "\n",
      "Iteration 2900 ============ Accuracy : 68.93  Loss : 0.93 Time taken : 1.89 s\n",
      "\n",
      "Iteration 3000 ============ Accuracy : 69.29  Loss : 0.93 Time taken : 1.88 s\n",
      "\n",
      "Iteration 3100 ============ Accuracy : 69.5  Loss : 0.92 Time taken : 1.91 s\n",
      "\n",
      "Iteration 3200 ============ Accuracy : 69.57  Loss : 0.91 Time taken : 1.88 s\n",
      "\n",
      "Iteration 3300 ============ Accuracy : 69.71  Loss : 0.91 Time taken : 2.06 s\n",
      "\n",
      "Iteration 3400 ============ Accuracy : 69.64  Loss : 0.9 Time taken : 1.95 s\n",
      "\n",
      "Iteration 3500 ============ Accuracy : 69.64  Loss : 0.9 Time taken : 2.0 s\n",
      "\n",
      "Iteration 3600 ============ Accuracy : 69.71  Loss : 0.89 Time taken : 1.88 s\n",
      "\n",
      "Iteration 3700 ============ Accuracy : 69.71  Loss : 0.89 Time taken : 1.9 s\n",
      "\n",
      "Iteration 3800 ============ Accuracy : 69.79  Loss : 0.88 Time taken : 1.9 s\n",
      "\n",
      "Iteration 3900 ============ Accuracy : 70.07  Loss : 0.88 Time taken : 1.89 s\n",
      "\n",
      "Iteration 4000 ============ Accuracy : 70.14  Loss : 0.88 Time taken : 2.06 s\n",
      "\n",
      "TEST Accuracy 70.66666666666667 Loss 0.7925248268098033\n"
     ]
    },
    {
     "data": {
      "image/png": "[encoded data removed]",
      "text/plain": [
       "<Figure size 432x288 with 1 Axes>"
      ]
     },
     "metadata": {
      "needs_background": "light"
     },
     "output_type": "display_data"
    },
    {
     "data": {
      "image/png": "[encoded data removed]",
      "text/plain": [
       "<Figure size 432x288 with 1 Axes>"
      ]
     },
     "metadata": {
      "needs_background": "light"
     },
     "output_type": "display_data"
    }
   ],
   "source": [
    "learning_rate = [0.1, 0.05, 0.01]\n",
    "\n",
    "for i in range(3):\n",
    "    myANN1 = ANN1(trainX,one_hot(trainY), trainY,lr=learning_rate[i])\n",
    "    myANN1.train(4000, 100, makefile= False)\n",
    "    myANN1.test(testX, testY)\n",
    "    loss_plot(myANN1.loss,myANN1.lr)\n",
    "    accuracy_plot(myANN1.accuracy, myANN1.lr)"
   ]
  },
  {
   "cell_type": "code",
   "execution_count": 10,
   "metadata": {
    "colab": {
     "base_uri": "https://localhost:8080/",
     "height": 1000
    },
    "executionInfo": {
     "elapsed": 481381,
     "status": "ok",
     "timestamp": 1619100067892,
     "user": {
      "displayName": "ASHNA SWAIKA",
      "photoUrl": "",
      "userId": "17207238856895085641"
     },
     "user_tz": -330
    },
    "id": "1RULm7yYuDjx",
    "outputId": "c99107d6-91ad-47ac-f75c-00ba5e0a11dd"
   },
   "outputs": [
    {
     "name": "stdout",
     "output_type": "stream",
     "text": [
      "Iteration 0 ============ Accuracy : 9.93  Loss : 2.44 Time taken : 0.08 s\n",
      "\n",
      "Iteration 100 ============ Accuracy : 65.71  Loss : 2.43 Time taken : 4.05 s\n",
      "\n",
      "Iteration 200 ============ Accuracy : 67.57  Loss : 2.45 Time taken : 3.82 s\n",
      "\n",
      "Iteration 300 ============ Accuracy : 68.43  Loss : 2.47 Time taken : 3.73 s\n",
      "\n",
      "Iteration 400 ============ Accuracy : 69.57  Loss : 2.51 Time taken : 3.57 s\n",
      "\n",
      "Iteration 500 ============ Accuracy : 70.43  Loss : 2.55 Time taken : 3.6 s\n",
      "\n",
      "Iteration 600 ============ Accuracy : 71.57  Loss : 2.59 Time taken : 3.57 s\n",
      "\n",
      "Iteration 700 ============ Accuracy : 71.64  Loss : 2.64 Time taken : 3.54 s\n",
      "\n",
      "Iteration 800 ============ Accuracy : 71.5  Loss : 2.67 Time taken : 3.55 s\n",
      "\n",
      "Iteration 900 ============ Accuracy : 71.71  Loss : 2.71 Time taken : 3.6 s\n",
      "\n",
      "Iteration 1000 ============ Accuracy : 71.93  Loss : 2.74 Time taken : 3.62 s\n",
      "\n",
      "Iteration 1100 ============ Accuracy : 72.07  Loss : 2.76 Time taken : 3.58 s\n",
      "\n",
      "Iteration 1200 ============ Accuracy : 72.43  Loss : 2.79 Time taken : 3.38 s\n",
      "\n",
      "Iteration 1300 ============ Accuracy : 72.21  Loss : 2.81 Time taken : 3.63 s\n",
      "\n",
      "Iteration 1400 ============ Accuracy : 72.5  Loss : 2.83 Time taken : 3.3 s\n",
      "\n",
      "Iteration 1500 ============ Accuracy : 72.79  Loss : 2.85 Time taken : 3.36 s\n",
      "\n",
      "Iteration 1600 ============ Accuracy : 73.0  Loss : 2.86 Time taken : 3.3 s\n",
      "\n",
      "Iteration 1700 ============ Accuracy : 73.21  Loss : 2.87 Time taken : 3.55 s\n",
      "\n",
      "Iteration 1800 ============ Accuracy : 73.36  Loss : 2.89 Time taken : 3.24 s\n",
      "\n",
      "Iteration 1900 ============ Accuracy : 73.36  Loss : 2.9 Time taken : 3.36 s\n",
      "\n",
      "Iteration 2000 ============ Accuracy : 73.5  Loss : 2.91 Time taken : 3.45 s\n",
      "\n",
      "Iteration 2100 ============ Accuracy : 73.79  Loss : 2.92 Time taken : 3.48 s\n",
      "\n",
      "Iteration 2200 ============ Accuracy : 73.71  Loss : 2.93 Time taken : 3.3 s\n",
      "\n",
      "Iteration 2300 ============ Accuracy : 73.93  Loss : 2.94 Time taken : 3.21 s\n",
      "\n",
      "Iteration 2400 ============ Accuracy : 74.29  Loss : 2.95 Time taken : 4.13 s\n",
      "\n",
      "Iteration 2500 ============ Accuracy : 74.21  Loss : 2.95 Time taken : 3.84 s\n",
      "\n",
      "Iteration 2600 ============ Accuracy : 74.43  Loss : 2.96 Time taken : 3.85 s\n",
      "\n",
      "Iteration 2700 ============ Accuracy : 74.5  Loss : 2.97 Time taken : 3.99 s\n",
      "\n",
      "Iteration 2800 ============ Accuracy : 74.43  Loss : 2.97 Time taken : 4.13 s\n",
      "\n",
      "Iteration 2900 ============ Accuracy : 74.5  Loss : 2.98 Time taken : 4.19 s\n",
      "\n",
      "Iteration 3000 ============ Accuracy : 74.43  Loss : 2.99 Time taken : 4.15 s\n",
      "\n",
      "Iteration 3100 ============ Accuracy : 74.43  Loss : 2.99 Time taken : 3.78 s\n",
      "\n",
      "Iteration 3200 ============ Accuracy : 74.57  Loss : 3.0 Time taken : 3.65 s\n",
      "\n",
      "Iteration 3300 ============ Accuracy : 74.79  Loss : 3.0 Time taken : 3.64 s\n",
      "\n",
      "Iteration 3400 ============ Accuracy : 74.86  Loss : 3.01 Time taken : 3.6 s\n",
      "\n",
      "Iteration 3500 ============ Accuracy : 74.93  Loss : 3.01 Time taken : 3.61 s\n",
      "\n",
      "Iteration 3600 ============ Accuracy : 75.0  Loss : 3.01 Time taken : 4.41 s\n",
      "\n",
      "Iteration 3700 ============ Accuracy : 75.07  Loss : 3.02 Time taken : 3.75 s\n",
      "\n",
      "Iteration 3800 ============ Accuracy : 75.07  Loss : 3.02 Time taken : 4.02 s\n",
      "\n",
      "Iteration 3900 ============ Accuracy : 75.14  Loss : 3.03 Time taken : 4.08 s\n",
      "\n",
      "Iteration 4000 ============ Accuracy : 75.07  Loss : 3.03 Time taken : 3.89 s\n",
      "\n",
      "TEST Accuracy 76.66666666666667 Loss 0.5398569574682464\n"
     ]
    },
    {
     "data": {
      "image/png": "[encoded data removed]",
      "text/plain": [
       "<Figure size 432x288 with 1 Axes>"
      ]
     },
     "metadata": {
      "needs_background": "light"
     },
     "output_type": "display_data"
    },
    {
     "data": {
      "image/png": "[encoded data removed]",
      "text/plain": [
       "<Figure size 432x288 with 1 Axes>"
      ]
     },
     "metadata": {
      "needs_background": "light"
     },
     "output_type": "display_data"
    },
    {
     "name": "stdout",
     "output_type": "stream",
     "text": [
      "Iteration 0 ============ Accuracy : 7.5  Loss : 1.89 Time taken : 0.06 s\n",
      "\n",
      "Iteration 100 ============ Accuracy : 66.36  Loss : 2.13 Time taken : 3.67 s\n",
      "\n",
      "Iteration 200 ============ Accuracy : 68.64  Loss : 2.17 Time taken : 3.68 s\n",
      "\n",
      "Iteration 300 ============ Accuracy : 69.71  Loss : 2.18 Time taken : 3.34 s\n",
      "\n",
      "Iteration 400 ============ Accuracy : 70.0  Loss : 2.16 Time taken : 3.56 s\n",
      "\n",
      "Iteration 500 ============ Accuracy : 70.36  Loss : 2.15 Time taken : 3.35 s\n",
      "\n",
      "Iteration 600 ============ Accuracy : 70.86  Loss : 2.13 Time taken : 3.08 s\n",
      "\n",
      "Iteration 700 ============ Accuracy : 71.07  Loss : 2.1 Time taken : 3.43 s\n",
      "\n",
      "Iteration 800 ============ Accuracy : 71.0  Loss : 2.07 Time taken : 4.96 s\n",
      "\n",
      "Iteration 900 ============ Accuracy : 71.36  Loss : 2.03 Time taken : 3.1 s\n",
      "\n",
      "Iteration 1000 ============ Accuracy : 71.57  Loss : 2.01 Time taken : 3.06 s\n",
      "\n",
      "Iteration 1100 ============ Accuracy : 71.71  Loss : 2.0 Time taken : 3.08 s\n",
      "\n",
      "Iteration 1200 ============ Accuracy : 71.64  Loss : 1.99 Time taken : 3.1 s\n",
      "\n",
      "Iteration 1300 ============ Accuracy : 72.0  Loss : 1.99 Time taken : 3.21 s\n",
      "\n",
      "Iteration 1400 ============ Accuracy : 72.0  Loss : 1.99 Time taken : 3.43 s\n",
      "\n",
      "Iteration 1500 ============ Accuracy : 71.86  Loss : 1.99 Time taken : 3.28 s\n",
      "\n",
      "Iteration 1600 ============ Accuracy : 71.86  Loss : 1.99 Time taken : 5.03 s\n",
      "\n",
      "Iteration 1700 ============ Accuracy : 72.07  Loss : 1.99 Time taken : 3.66 s\n",
      "\n",
      "Iteration 1800 ============ Accuracy : 72.57  Loss : 1.99 Time taken : 3.59 s\n",
      "\n",
      "Iteration 1900 ============ Accuracy : 72.5  Loss : 2.0 Time taken : 3.57 s\n",
      "\n",
      "Iteration 2000 ============ Accuracy : 72.43  Loss : 2.0 Time taken : 3.57 s\n",
      "\n",
      "Iteration 2100 ============ Accuracy : 72.5  Loss : 2.0 Time taken : 3.57 s\n",
      "\n",
      "Iteration 2200 ============ Accuracy : 72.57  Loss : 2.0 Time taken : 3.56 s\n",
      "\n",
      "Iteration 2300 ============ Accuracy : 72.5  Loss : 2.0 Time taken : 3.62 s\n",
      "\n",
      "Iteration 2400 ============ Accuracy : 72.57  Loss : 2.0 Time taken : 3.61 s\n",
      "\n",
      "Iteration 2500 ============ Accuracy : 72.5  Loss : 2.0 Time taken : 3.59 s\n",
      "\n",
      "Iteration 2600 ============ Accuracy : 72.64  Loss : 2.0 Time taken : 3.61 s\n",
      "\n",
      "Iteration 2700 ============ Accuracy : 72.64  Loss : 2.0 Time taken : 3.58 s\n",
      "\n",
      "Iteration 2800 ============ Accuracy : 72.64  Loss : 2.0 Time taken : 4.08 s\n",
      "\n",
      "Iteration 2900 ============ Accuracy : 72.93  Loss : 2.0 Time taken : 4.18 s\n",
      "\n",
      "Iteration 3000 ============ Accuracy : 73.07  Loss : 2.0 Time taken : 3.97 s\n",
      "\n",
      "Iteration 3100 ============ Accuracy : 73.14  Loss : 2.0 Time taken : 4.22 s\n",
      "\n",
      "Iteration 3200 ============ Accuracy : 73.21  Loss : 2.0 Time taken : 3.98 s\n",
      "\n",
      "Iteration 3300 ============ Accuracy : 73.21  Loss : 2.0 Time taken : 3.68 s\n",
      "\n",
      "Iteration 3400 ============ Accuracy : 73.43  Loss : 2.0 Time taken : 3.87 s\n",
      "\n",
      "Iteration 3500 ============ Accuracy : 73.5  Loss : 2.0 Time taken : 3.28 s\n",
      "\n",
      "Iteration 3600 ============ Accuracy : 73.5  Loss : 2.0 Time taken : 3.16 s\n",
      "\n",
      "Iteration 3700 ============ Accuracy : 73.5  Loss : 2.0 Time taken : 3.07 s\n",
      "\n",
      "Iteration 3800 ============ Accuracy : 73.5  Loss : 2.0 Time taken : 3.08 s\n",
      "\n",
      "Iteration 3900 ============ Accuracy : 73.5  Loss : 2.0 Time taken : 3.1 s\n",
      "\n",
      "Iteration 4000 ============ Accuracy : 73.57  Loss : 2.0 Time taken : 3.11 s\n",
      "\n",
      "TEST Accuracy 78.66666666666666 Loss 0.5401079324193921\n"
     ]
    },
    {
     "data": {
      "image/png": "[encoded data removed]",
      "text/plain": [
       "<Figure size 432x288 with 1 Axes>"
      ]
     },
     "metadata": {
      "needs_background": "light"
     },
     "output_type": "display_data"
    },
    {
     "data": {
      "image/png": "[encoded data removed]",
      "text/plain": [
       "<Figure size 432x288 with 1 Axes>"
      ]
     },
     "metadata": {
      "needs_background": "light"
     },
     "output_type": "display_data"
    },
    {
     "name": "stdout",
     "output_type": "stream",
     "text": [
      "Iteration 0 ============ Accuracy : 10.21  Loss : 4.65 Time taken : 0.03 s\n",
      "\n",
      "Iteration 100 ============ Accuracy : 52.93  Loss : 4.49 Time taken : 3.18 s\n",
      "\n",
      "Iteration 200 ============ Accuracy : 57.57  Loss : 4.48 Time taken : 5.02 s\n",
      "\n",
      "Iteration 300 ============ Accuracy : 61.43  Loss : 4.48 Time taken : 3.12 s\n",
      "\n",
      "Iteration 400 ============ Accuracy : 64.29  Loss : 4.48 Time taken : 3.13 s\n",
      "\n",
      "Iteration 500 ============ Accuracy : 65.86  Loss : 4.48 Time taken : 3.07 s\n",
      "\n",
      "Iteration 600 ============ Accuracy : 67.71  Loss : 4.49 Time taken : 3.29 s\n",
      "\n",
      "Iteration 700 ============ Accuracy : 68.21  Loss : 4.49 Time taken : 3.08 s\n",
      "\n",
      "Iteration 800 ============ Accuracy : 68.71  Loss : 4.5 Time taken : 3.73 s\n",
      "\n",
      "Iteration 900 ============ Accuracy : 69.43  Loss : 4.51 Time taken : 3.65 s\n",
      "\n",
      "Iteration 1000 ============ Accuracy : 69.64  Loss : 4.51 Time taken : 3.69 s\n",
      "\n",
      "Iteration 1100 ============ Accuracy : 70.07  Loss : 4.52 Time taken : 3.8 s\n",
      "\n",
      "Iteration 1200 ============ Accuracy : 70.21  Loss : 4.52 Time taken : 4.48 s\n",
      "\n",
      "Iteration 1300 ============ Accuracy : 70.93  Loss : 4.52 Time taken : 4.71 s\n",
      "\n",
      "Iteration 1400 ============ Accuracy : 71.36  Loss : 4.53 Time taken : 4.43 s\n",
      "\n",
      "Iteration 1500 ============ Accuracy : 71.21  Loss : 4.53 Time taken : 3.87 s\n",
      "\n",
      "Iteration 1600 ============ Accuracy : 70.79  Loss : 4.53 Time taken : 3.88 s\n",
      "\n",
      "Iteration 1700 ============ Accuracy : 70.71  Loss : 4.53 Time taken : 3.84 s\n",
      "\n",
      "Iteration 1800 ============ Accuracy : 70.29  Loss : 4.54 Time taken : 3.74 s\n",
      "\n",
      "Iteration 1900 ============ Accuracy : 70.57  Loss : 4.54 Time taken : 3.75 s\n",
      "\n",
      "Iteration 2000 ============ Accuracy : 70.43  Loss : 4.54 Time taken : 3.8 s\n",
      "\n",
      "Iteration 2100 ============ Accuracy : 70.5  Loss : 4.54 Time taken : 3.78 s\n",
      "\n",
      "Iteration 2200 ============ Accuracy : 70.43  Loss : 4.54 Time taken : 3.73 s\n",
      "\n",
      "Iteration 2300 ============ Accuracy : 70.36  Loss : 4.54 Time taken : 3.79 s\n",
      "\n",
      "Iteration 2400 ============ Accuracy : 70.43  Loss : 4.54 Time taken : 4.0 s\n",
      "\n",
      "Iteration 2500 ============ Accuracy : 70.71  Loss : 4.54 Time taken : 4.35 s\n",
      "\n",
      "Iteration 2600 ============ Accuracy : 70.57  Loss : 4.54 Time taken : 4.7 s\n",
      "\n",
      "Iteration 2700 ============ Accuracy : 70.64  Loss : 4.54 Time taken : 5.23 s\n",
      "\n",
      "Iteration 2800 ============ Accuracy : 70.64  Loss : 4.54 Time taken : 4.09 s\n",
      "\n",
      "Iteration 2900 ============ Accuracy : 70.79  Loss : 4.54 Time taken : 3.73 s\n",
      "\n",
      "Iteration 3000 ============ Accuracy : 71.0  Loss : 4.54 Time taken : 3.6 s\n",
      "\n",
      "Iteration 3100 ============ Accuracy : 71.07  Loss : 4.54 Time taken : 3.69 s\n",
      "\n",
      "Iteration 3200 ============ Accuracy : 71.14  Loss : 4.54 Time taken : 3.77 s\n",
      "\n",
      "Iteration 3300 ============ Accuracy : 71.14  Loss : 4.54 Time taken : 3.76 s\n",
      "\n",
      "Iteration 3400 ============ Accuracy : 71.07  Loss : 4.54 Time taken : 3.63 s\n",
      "\n",
      "Iteration 3500 ============ Accuracy : 71.14  Loss : 4.54 Time taken : 3.59 s\n",
      "\n",
      "Iteration 3600 ============ Accuracy : 71.14  Loss : 4.54 Time taken : 3.56 s\n",
      "\n",
      "Iteration 3700 ============ Accuracy : 71.07  Loss : 4.54 Time taken : 3.72 s\n",
      "\n",
      "Iteration 3800 ============ Accuracy : 71.29  Loss : 4.54 Time taken : 3.62 s\n",
      "\n",
      "Iteration 3900 ============ Accuracy : 71.29  Loss : 4.54 Time taken : 3.62 s\n",
      "\n",
      "Iteration 4000 ============ Accuracy : 71.43  Loss : 4.54 Time taken : 4.17 s\n",
      "\n",
      "TEST Accuracy 74.5 Loss 0.6380857561025141\n"
     ]
    },
    {
     "data": {
      "image/png": "[encoded data removed]",
      "text/plain": [
       "<Figure size 432x288 with 1 Axes>"
      ]
     },
     "metadata": {
      "needs_background": "light"
     },
     "output_type": "display_data"
    },
    {
     "data": {
      "image/png": "[encoded data removed]",
      "text/plain": [
       "<Figure size 432x288 with 1 Axes>"
      ]
     },
     "metadata": {
      "needs_background": "light"
     },
     "output_type": "display_data"
    }
   ],
   "source": [
    "learning_rate = [0.1, 0.05, 0.01]\n",
    "\n",
    "for i in range(3):\n",
    "    myANN2 = ANN2(trainX,one_hot(trainY), trainY,lr=learning_rate[i])\n",
    "    myANN2.train(4000, 100, makefile= False)\n",
    "    myANN2.test(testX, testY)\n",
    "    loss_plot(myANN2.loss,myANN2.lr)\n",
    "    accuracy_plot(myANN2.accuracy, myANN2.lr)"
   ]
  },
  {
   "cell_type": "code",
   "execution_count": null,
   "metadata": {
    "executionInfo": {
     "elapsed": 4384,
     "status": "aborted",
     "timestamp": 1619097335681,
     "user": {
      "displayName": "ASHNA SWAIKA",
      "photoUrl": "",
      "userId": "17207238856895085641"
     },
     "user_tz": -330
    },
    "id": "6d6G4t2CuDjy"
   },
   "outputs": [],
   "source": []
  }
 ],
 "metadata": {
  "accelerator": "GPU",
  "colab": {
   "name": "NN.ipynb",
   "provenance": []
  },
  "kernelspec": {
   "display_name": "Python 3",
   "language": "python",
   "name": "python3"
  },
  "language_info": {
   "codemirror_mode": {
    "name": "ipython",
    "version": 3
   },
   "file_extension": ".py",
   "mimetype": "text/x-python",
   "name": "python",
   "nbconvert_exporter": "python",
   "pygments_lexer": "ipython3",
   "version": "3.8.2"
  },
  "metadata": {
   "interpreter": {
    "hash": "ea0a72ceac5d05170dac93d59a49dcfa21fde6f7b3dbe6a91b41f1755f1f279c"
   }
  }
 },
 "nbformat": 4,
 "nbformat_minor": 1
}
